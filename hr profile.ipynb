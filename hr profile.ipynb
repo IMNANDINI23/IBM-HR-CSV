{
 "cells": [
  {
   "cell_type": "markdown",
   "id": "89dbba11",
   "metadata": {},
   "source": [
    "# Attrition Analytics - Exploratory Analysis & Predictive Modeling"
   ]
  },
  {
   "cell_type": "markdown",
   "id": "6eff5fed",
   "metadata": {},
   "source": [
    "Import the libraries"
   ]
  },
  {
   "cell_type": "code",
   "execution_count": null,
   "id": "6f8f665b",
   "metadata": {},
   "outputs": [],
   "source": [
    "import numpy as np\n",
    "import matplotlib.pyplot as plt\n",
    "import pandas as pd\n",
    "import seaborn as sns\n",
    "%matplotlib inline\n",
    "pd.options.display.max_columns = None\n",
    "import warnings\n",
    "warnings.filterwarnings('ignore')from sklearn import preprocessingfrom sklearn.compose \n",
    "import ColumnTransformerfrom sklearn.preprocessing \n",
    "import LabelEncoder, OneHotEncoderfrom sklearn.model_selection \n",
    "import train_test_splitfrom sklearn.preprocessing \n",
    "from sklearn.model_selection import train_test_split\n",
    "import StandardScalerfrom sklearn.metrics \n",
    "import accuracy_score,jaccard_score,f1_score,log_loss,confusion_matrixfrom sklearn.metrics \n",
    "import confusion_matrix,classification_reportfrom sklearn.neighbors \n",
    "import KNeighborsClassifierfrom sklearn.tree \n",
    "import DecisionTreeClassifierfrom sklearn.svm \n",
    "import SVCfrom sklearn.linear_model \n",
    "import LogisticRegression\n",
    "#Loading all Packages\n",
    "print(\"==================== BLOCK 1 Started! ======================\")\n",
    "\n",
    "# Library for Data Manipulation\n",
    "import numpy as np\n",
    "import pandas as pd\n",
    "\n",
    "#Library for Data Visualization.\n",
    "import seaborn as sns\n",
    "import matplotlib.pyplot as plt\n",
    "import hvplot\n",
    "\n",
    "%matplotlib inline\n",
    "sns.set_style(\"whitegrid\")\n",
    "plt.style.use(\"fivethirtyeight\")\n",
    "\n",
    "# Library for Statistical Modelling\n",
    "from sklearn.preprocessing import LabelEncoder\n",
    "from sklearn.preprocessing import StandardScaler\n",
    "from sklearn.metrics import confusion_matrix, accuracy_score, classification_report, roc_auc_score, precision_recall_curve, roc_curve\n",
    "from sklearn.model_selection import train_test_split, GridSearchCV\n",
    "from sklearn.linear_model import LogisticRegression\n",
    "from sklearn.ensemble import RandomForestClassifier\n",
    "from sklearn.svm import SVC\n",
    "from xgboost import XGBClassifier\n",
    "from lightgbm import LGBMClassifier\n",
    "from catboost import CatBoostClassifier\n",
    "from sklearn.ensemble import AdaBoostClassifier\n",
    "\n",
    "print(\"==================== Packages Loaded ======================\")\n",
    "\n",
    "# Library for Ignore the warnings\n",
    "import warnings\n",
    "warnings.filterwarnings('always')\n",
    "warnings.filterwarnings('ignore')\n",
    "\n",
    "==================== BLOCK"
   ]
  },
  {
   "cell_type": "markdown",
   "id": "69079e22",
   "metadata": {},
   "source": [
    "# UPLOAD DATA"
   ]
  },
  {
   "cell_type": "code",
   "execution_count": null,
   "id": "b97593fb",
   "metadata": {},
   "outputs": [],
   "source": [
    "hr_df = pd.read_csv(\"https://raw.githubusercontent.com/IMNANDINI23/IBM-HR-CSV/main/WA_Fn-UseC_-HR-Employee-Attrition.csv\")\n",
    "hr_df.head()"
   ]
  },
  {
   "cell_type": "code",
   "execution_count": null,
   "id": "9830c4e1",
   "metadata": {},
   "outputs": [],
   "source": [
    "hr_df.describe()"
   ]
  },
  {
   "cell_type": "code",
   "execution_count": null,
   "id": "9a4846de",
   "metadata": {},
   "outputs": [],
   "source": [
    "hr_df.shape"
   ]
  },
  {
   "cell_type": "code",
   "execution_count": null,
   "id": "150170a8",
   "metadata": {},
   "outputs": [],
   "source": [
    "hr_df[hr_df.isnull().any(axis=1)]"
   ]
  },
  {
   "cell_type": "markdown",
   "id": "aa6f9acc",
   "metadata": {},
   "source": [
    "# Data Preprocessing"
   ]
  },
  {
   "cell_type": "code",
   "execution_count": null,
   "id": "fa6e3fdf",
   "metadata": {},
   "outputs": [],
   "source": [
    "x = hr_df.iloc[:,:].values\n",
    "x= np.delete(x,1,axis=1)\n",
    "print(x[:10,:])"
   ]
  },
  {
   "cell_type": "code",
   "execution_count": null,
   "id": "58cebdc9",
   "metadata": {},
   "outputs": [],
   "source": [
    "y = hr_df.Attrition\n",
    "y.head()"
   ]
  },
  {
   "cell_type": "code",
   "execution_count": null,
   "id": "cebfefcf",
   "metadata": {},
   "outputs": [],
   "source": [
    "hr_df.info()"
   ]
  },
  {
   "cell_type": "code",
   "execution_count": null,
   "id": "22ced376",
   "metadata": {},
   "outputs": [],
   "source": [
    "# commercial and non commercial group\n",
    "hr_df.columns.to_series().groupby(hr_df.dtypes).groups"
   ]
  },
  {
   "cell_type": "code",
   "execution_count": null,
   "id": "442b68f0",
   "metadata": {},
   "outputs": [],
   "source": [
    "#distribution for numerical features\n",
    "hr_df.describe().T"
   ]
  },
  {
   "cell_type": "code",
   "execution_count": null,
   "id": "59cbd33c",
   "metadata": {},
   "outputs": [],
   "source": [
    "# drop out features that give out useless information\n",
    "hr_df = hr_df.drop(columns = ['EmployeeNumber', 'EmployeeCount', 'StandardHours', 'Over18'])\n",
    "hr_df.head()"
   ]
  },
  {
   "cell_type": "code",
   "execution_count": null,
   "id": "3b37ee03",
   "metadata": {},
   "outputs": [],
   "source": [
    "# distribution for target variable\n",
    "sns.countplot(x = 'Attrition', data = hr_df);\n",
    "plt.savefig('attrition.png')"
   ]
  },
  {
   "cell_type": "code",
   "execution_count": null,
   "id": "92fb007d",
   "metadata": {},
   "outputs": [],
   "source": [
    "# numerical features visualization\n",
    "fig, axss = plt.subplots(3,4, figsize=[15,10])\n",
    "sns.boxplot(x='Attrition', y ='DailyRate', data=hr_df, ax=axss[0][0],palette=\"Blues\")\n",
    "sns.boxplot(x='Attrition', y ='Age', data=hr_df, ax=axss[0][1],palette=\"Blues\")\n",
    "sns.boxplot(x='Attrition', y ='DistanceFromHome', data=hr_df, ax=axss[0][2],palette=\"Blues\")\n",
    "sns.boxplot(x='Attrition', y ='HourlyRate', data=hr_df, ax=axss[0][3],palette=\"Blues\")\n",
    "sns.boxplot(x='Attrition', y ='MonthlyIncome', data=hr_df, ax=axss[1][0],palette=\"Blues\")\n",
    "sns.boxplot(x='Attrition', y ='MonthlyRate', data=hr_df, ax=axss[1][1],palette=\"Blues\")\n",
    "sns.boxplot(x='Attrition', y ='NumCompaniesWorked', data=hr_df, ax=axss[1][2],palette=\"Blues\")\n",
    "sns.boxplot(x='Attrition', y ='TotalWorkingYears', data=hr_df, ax=axss[1][3],palette=\"Blues\")\n",
    "sns.boxplot(x='Attrition', y ='YearsAtCompany', data=hr_df, ax=axss[2][0],palette=\"Blues\")\n",
    "sns.boxplot(x='Attrition', y ='YearsInCurrentRole', data=hr_df, ax=axss[2][1],palette=\"Blues\")\n",
    "sns.boxplot(x='Attrition', y ='YearsSinceLastPromotion', data=hr_df, ax=axss[2][2],palette=\"Blues\")\n",
    "sns.boxplot(x='Attrition', y ='YearsWithCurrManager', data=hr_df, ax=axss[2][3],palette=\"Blues\")\n",
    "plt.tight_layout()\n",
    "plt.savefig('numerical_dist.png');"
   ]
  },
  {
   "cell_type": "code",
   "execution_count": null,
   "id": "a7ea6e6e",
   "metadata": {},
   "outputs": [],
   "source": [
    "# non numerical features visualization\n",
    "fig,axss = plt.subplots(2,4, figsize=[15,10])\n",
    "sns.countplot(x='Attrition', hue='BusinessTravel', data=hr_df, ax=axss[0][0])\n",
    "sns.countplot(x='Attrition', hue='Department', data=hr_df, ax=axss[0][1])\n",
    "sns.countplot(x='Attrition', hue='Gender', data=hr_df, ax=axss[0][2])\n",
    "sns.countplot(x='Attrition', hue='JobRole', data=hr_df, ax=axss[0][3])\n",
    "sns.countplot(x='Attrition', hue='EducationField', data=hr_df, ax=axss[1][0])\n",
    "sns.countplot(x='Attrition', hue='MaritalStatus', data=hr_df, ax=axss[1][1])\n",
    "sns.countplot(x='Attrition', hue='OverTime', data=hr_df, ax=axss[1][2])\n",
    "plt.tight_layout()\n",
    "plt.savefig('cate_dist.png');"
   ]
  },
  {
   "cell_type": "markdown",
   "id": "67e89953",
   "metadata": {},
   "source": [
    "# Feature engineering"
   ]
  },
  {
   "cell_type": "code",
   "execution_count": null,
   "id": "5f3bf439",
   "metadata": {},
   "outputs": [],
   "source": [
    "# tranform binary feature into 0 and 1\n",
    "hr_df['Attrition'] = hr_df['Attrition'].map({'Yes': 1, 'No': 0})\n",
    "hr_df['OverTime'] = hr_df['OverTime'].map({'Yes': 1, 'No': 0})"
   ]
  },
  {
   "cell_type": "code",
   "execution_count": null,
   "id": "a66aac37",
   "metadata": {},
   "outputs": [],
   "source": [
    "# correlation between numerical features and target variable\n",
    "corr_score = hr_df[['Age', 'DailyRate', 'DistanceFromHome', 'Education',\n",
    "        'EnvironmentSatisfaction', 'HourlyRate', 'JobInvolvement', 'JobLevel',\n",
    "        'JobSatisfaction', 'MonthlyIncome', 'MonthlyRate', 'NumCompaniesWorked',\n",
    "        'PercentSalaryHike', 'PerformanceRating', 'RelationshipSatisfaction',\n",
    "        'StockOptionLevel', 'TotalWorkingYears', 'TrainingTimesLastYear',\n",
    "        'WorkLifeBalance', 'YearsAtCompany', 'YearsInCurrentRole',\n",
    "        'YearsSinceLastPromotion', 'YearsWithCurrManager', 'Attrition']].corr()\n",
    "corr_score"
   ]
  },
  {
   "cell_type": "code",
   "execution_count": null,
   "id": "611447db",
   "metadata": {},
   "outputs": [],
   "source": [
    "# correlation relationships\n",
    "plt.figure(figsize=(15, 10))\n",
    "mask = np.triu(corr_score)\n",
    "sns.heatmap(corr_score,cmap=\"Oranges\",annot = True, fmt = '.2f',mask = mask)\n",
    "plt.tight_layout()\n",
    "plt.savefig('corr.png');"
   ]
  },
  {
   "cell_type": "code",
   "execution_count": null,
   "id": "d959227a",
   "metadata": {},
   "outputs": [],
   "source": [
    "# Drop the target column and get a clean dataframe with features\n",
    "y = hr_df['Attrition']\n",
    "df_clean = hr_df.drop(columns = ['Attrition'])"
   ]
  },
  {
   "cell_type": "code",
   "execution_count": null,
   "id": "fdeebb12",
   "metadata": {},
   "outputs": [],
   "source": [
    "# apply one hot encoding to non numerical features\n",
    "hr_df_clean = pd.get_dummies(df_clean, columns = ['BusinessTravel', 'Gender','MaritalStatus'], drop_first = True)\n",
    "hr_df_clean = pd.get_dummies(df_clean)\n",
    "hr_df_clean.head()"
   ]
  },
  {
   "cell_type": "code",
   "execution_count": null,
   "id": "59822767",
   "metadata": {},
   "outputs": [],
   "source": [
    "# check the columns we have after feature engineering\n",
    "print(list(hr_df_clean.columns))"
   ]
  },
  {
   "cell_type": "code",
   "execution_count": null,
   "id": "d9d82e43",
   "metadata": {},
   "outputs": [],
   "source": [
    "# filter out features that needs to be standarized\n",
    "col_tobe_standard = ['Age', 'DailyRate', 'DistanceFromHome', 'Education', 'EnvironmentSatisfaction', \n",
    "                   'HourlyRate', 'JobInvolvement', 'JobLevel', 'JobSatisfaction', 'MonthlyIncome', \n",
    "                   'MonthlyRate', 'NumCompaniesWorked', 'PercentSalaryHike', 'PerformanceRating', \n",
    "                   'RelationshipSatisfaction', 'StockOptionLevel', 'TotalWorkingYears', 'TrainingTimesLastYear', \n",
    "                   'WorkLifeBalance', 'YearsAtCompany', 'YearsInCurrentRole', 'YearsSinceLastPromotion', \n",
    "                   'YearsWithCurrManager']"
   ]
  },
  {
   "cell_type": "code",
   "execution_count": null,
   "id": "cca3c5f3",
   "metadata": {
    "scrolled": true
   },
   "outputs": [],
   "source": [
    "# standarization on numercial features so that all the numerical features are having the same type of normal distribution\n",
    "from sklearn.preprocessing import StandardScaler\n",
    "scaler = StandardScaler()\n",
    "for col in col_tobe_standard:\n",
    "    hr_df_clean[col] = hr_df_clean[col].astype(float)\n",
    "    hr_df_clean[[col]] = scaler.fit_transform(df_clean[[col]])\n",
    "hr_df_clean.head()"
   ]
  },
  {
   "cell_type": "markdown",
   "id": "7d697aaa",
   "metadata": {},
   "source": [
    "+"
   ]
  },
  {
   "cell_type": "markdown",
   "id": "00f18d2d",
   "metadata": {},
   "source": [
    "\n",
    "-\n",
    "\n",
    "\n",
    "\n",
    "\n",
    "\n",
    "\n",
    "\n",
    "\n",
    "\n",
    "\n",
    "\n",
    "\n",
    "\n",
    "\n"
   ]
  },
  {
   "cell_type": "markdown",
   "id": "789d6449",
   "metadata": {},
   "source": [
    "\n"
   ]
  },
  {
   "cell_type": "code",
   "execution_count": null,
   "id": "eaaf0ce0",
   "metadata": {},
   "outputs": [],
   "source": [
    "# build different machine learning models with the same random state if applicable\n",
    "from sklearn.tree import DecisionTreeClassifier\n",
    "from sklearn.ensemble import RandomForestClassifier\n",
    "from sklearn.neighbors import KNeighborsClassifier \n",
    "from sklearn.linear_model import LogisticRegression\n",
    "from sklearn.neural_network import MLPClassifier\n",
    "from sklearn.ensemble import GradientBoostingClassifier\n",
    "import xgboost as xgb\n",
    "from sklearn.model_selection import GridSearchCV\n",
    "from sklearn.metrics import classification_report,confusion_matrix,plot_confusion_matrix,roc_curve, roc_auc_score\n",
    "lr = LogisticRegression(random_state = 6)\n",
    "knn = KNeighborsClassifier()\n",
    "rf = RandomForestClassifier(random_state = 6)\n",
    "dt = DecisionTreeClassifier(random_state = 6)\n",
    "mlp = MLPClassifier(random_state = 6)\n",
    "xg = xgb.XGBClassifier(random_state = 6)"
   ]
  },
  {
   "cell_type": "code",
   "execution_count": null,
   "id": "b7bbf74c",
   "metadata": {},
   "outputs": [],
   "source": [
    "# print out naive approach performance\n",
    "model_names = ['Logistic Regression', 'KNN', 'Random Forest','Decision Tree','Neural Network','XG Boost']\n",
    "idx = ['cv_1','cv_2','cv_3','cv_4','cv_5']\n",
    "hr_df_accuracy = hr_df(np.array(score_res).T, columns = model_names, index = idx).round(decimals=3)\n",
    "print('='*60)\n",
    "print('The Score is listed below \\n\\n',df_accuracy)\n",
    "print('='*60)"
   ]
  },
  {
   "cell_type": "code",
   "execution_count": null,
   "id": "8864a821",
   "metadata": {},
   "outputs": [],
   "source": [
    "# helper function to get best parameters from best model after grid search cross validation\n",
    "best_models = []\n",
    "def get_grid_res(gs):\n",
    "    print(\"Best Score:\", \"{:.3f}\".format(gs.best_score_))\n",
    "    print(\"Best Parameters:\")\n",
    "    best_params = gs.best_params_\n",
    "    for k, v in best_params.items():\n",
    "        print(k, \":\", v)"
   ]
  },
  {
   "cell_type": "code",
   "execution_count": null,
   "id": "0a333eb9",
   "metadata": {},
   "outputs": [],
   "source": [
    "# set kfold number for k fold cross validation method\n",
    "kfold = model_selection.KFold(n_splits=10, random_state = 6)"
   ]
  },
  {
   "cell_type": "code",
   "execution_count": null,
   "id": "551933fb",
   "metadata": {},
   "outputs": [],
   "source": [
    "# hyperparameter tuning for logistic regression\n",
    "lr_params = {'penalty':('l1', 'l2'), \n",
    "          'C':(0.001, 0.005, 0.01, 0.05, 0.1, 0.5, 1, 5, 10)}"
   ]
  },
  {
   "cell_type": "markdown",
   "id": "5f5072e6",
   "metadata": {},
   "source": []
  },
  {
   "cell_type": "code",
   "execution_count": 2,
   "id": "cc7f4d9f",
   "metadata": {},
   "outputs": [
    {
     "ename": "NameError",
     "evalue": "name 'grid_lr' is not defined",
     "output_type": "error",
     "traceback": [
      "\u001b[1;31m---------------------------------------------------------------------------\u001b[0m",
      "\u001b[1;31mNameError\u001b[0m                                 Traceback (most recent call last)",
      "Cell \u001b[1;32mIn[2], line 1\u001b[0m\n\u001b[1;32m----> 1\u001b[0m lr_res \u001b[38;5;241m=\u001b[39m \u001b[43mgrid_lr\u001b[49m\u001b[38;5;241m.\u001b[39mcv_results_\n",
      "\u001b[1;31mNameError\u001b[0m: name 'grid_lr' is not defined"
     ]
    }
   ],
   "source": []
  },
  {
   "cell_type": "code",
   "execution_count": 3,
   "id": "2f9bab30",
   "metadata": {},
   "outputs": [
    {
     "ename": "NameError",
     "evalue": "name 'raw_data' is not defined",
     "output_type": "error",
     "traceback": [
      "\u001b[1;31m---------------------------------------------------------------------------\u001b[0m",
      "\u001b[1;31mNameError\u001b[0m                                 Traceback (most recent call last)",
      "Cell \u001b[1;32mIn[3], line 2\u001b[0m\n\u001b[0;32m      1\u001b[0m \u001b[38;5;66;03m# the following code drops the columns based on the variance threshold algorithm\u001b[39;00m\n\u001b[1;32m----> 2\u001b[0m selected_columns \u001b[38;5;241m=\u001b[39m \u001b[43mraw_data\u001b[49m\u001b[38;5;241m.\u001b[39mcolumns[var_thresh\u001b[38;5;241m.\u001b[39mget_support()]\n\u001b[0;32m      3\u001b[0m \u001b[38;5;28;01mfor\u001b[39;00m cols \u001b[38;5;129;01min\u001b[39;00m raw_data\u001b[38;5;241m.\u001b[39mcolumns:\n\u001b[0;32m      4\u001b[0m     \u001b[38;5;28;01mif\u001b[39;00m cols \u001b[38;5;129;01mnot\u001b[39;00m \u001b[38;5;129;01min\u001b[39;00m selected_columns:\n",
      "\u001b[1;31mNameError\u001b[0m: name 'raw_data' is not defined"
     ]
    }
   ],
   "source": []
  },
  {
   "cell_type": "code",
   "execution_count": null,
   "id": "2373ef56",
   "metadata": {},
   "outputs": [],
   "source": []
  }
 ],
 "metadata": {
  "kernelspec": {
   "display_name": "Python 3 (ipykernel)",
   "language": "python",
   "name": "python3"
  },
  "language_info": {
   "codemirror_mode": {
    "name": "ipython",
    "version": 3
   },
   "file_extension": ".py",
   "mimetype": "text/x-python",
   "name": "python",
   "nbconvert_exporter": "python",
   "pygments_lexer": "ipython3",
   "version": "3.10.9"
  }
 },
 "nbformat": 4,
 "nbformat_minor": 5
}
